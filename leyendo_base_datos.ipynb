{
  "nbformat": 4,
  "nbformat_minor": 0,
  "metadata": {
    "colab": {
      "provenance": [],
      "authorship_tag": "ABX9TyOdwB7C29uJ2iKB0AHsryMl",
      "include_colab_link": true
    },
    "kernelspec": {
      "name": "python3",
      "display_name": "Python 3"
    },
    "language_info": {
      "name": "python"
    }
  },
  "cells": [
    {
      "cell_type": "markdown",
      "metadata": {
        "id": "view-in-github",
        "colab_type": "text"
      },
      "source": [
        "<a href=\"https://colab.research.google.com/github/JorgeAccardi/cienciadedatos/blob/main/leyendo_base_datos.ipynb\" target=\"_parent\"><img src=\"https://colab.research.google.com/assets/colab-badge.svg\" alt=\"Open In Colab\"/></a>"
      ]
    },
    {
      "cell_type": "markdown",
      "source": [
        "##**Leyendo banco de datos**"
      ],
      "metadata": {
        "id": "fnPNpryvhpvj"
      }
    },
    {
      "cell_type": "markdown",
      "source": [
        "###**Creando un banco de datos local**"
      ],
      "metadata": {
        "id": "AtPADwReh1hX"
      }
    },
    {
      "cell_type": "code",
      "execution_count": 1,
      "metadata": {
        "id": "niAOvn1lhgKw"
      },
      "outputs": [],
      "source": [
        "import sqlalchemy"
      ]
    },
    {
      "cell_type": "code",
      "source": [
        "from sqlalchemy import create_engine, MetaData, Table, inspect, Text"
      ],
      "metadata": {
        "id": "XQ2SAurViMaq"
      },
      "execution_count": 2,
      "outputs": []
    },
    {
      "cell_type": "code",
      "source": [
        "engine = create_engine('sqlite:///:memory')"
      ],
      "metadata": {
        "id": "ToIG2aQrire3"
      },
      "execution_count": 3,
      "outputs": []
    }
  ]
}