{
  "nbformat": 4,
  "nbformat_minor": 0,
  "metadata": {
    "colab": {
      "provenance": [],
      "authorship_tag": "ABX9TyM0W3ZsKoA0/GMnCpRjw1S3",
      "include_colab_link": true
    },
    "kernelspec": {
      "name": "python3",
      "display_name": "Python 3"
    },
    "language_info": {
      "name": "python"
    }
  },
  "cells": [
    {
      "cell_type": "markdown",
      "metadata": {
        "id": "view-in-github",
        "colab_type": "text"
      },
      "source": [
        "<a href=\"https://colab.research.google.com/github/JorgeAccardi/cienciadedatos/blob/main/Desaf%C3%ADo_manipulando_una_base_de_datos.ipynb\" target=\"_parent\"><img src=\"https://colab.research.google.com/assets/colab-badge.svg\" alt=\"Open In Colab\"/></a>"
      ]
    },
    {
      "cell_type": "markdown",
      "source": [
        "##**Manipulando una base de datos**"
      ],
      "metadata": {
        "id": "2ASOXCQ4RCqg"
      }
    },
    {
      "cell_type": "markdown",
      "source": [
        "###**1. Crear la base de datos local con la biblioteca SQLAlchemy.**"
      ],
      "metadata": {
        "id": "niTMZjh0Sqng"
      }
    },
    {
      "cell_type": "code",
      "execution_count": 2,
      "metadata": {
        "id": "iG_o_vDrQvTA"
      },
      "outputs": [],
      "source": [
        "import sqlalchemy\n",
        "from sqlalchemy import create_engine, MetaData, Table, inspect, text\n",
        "engine = create_engine('sqlite:///:memory:')"
      ]
    },
    {
      "cell_type": "markdown",
      "source": [
        "###**2. Escribir los datos del archivo CSV en esta base de datos local.**"
      ],
      "metadata": {
        "id": "dlaxIgSJU5Df"
      }
    },
    {
      "cell_type": "code",
      "source": [
        "import pandas as pd\n",
        "archivo = 'clientes_banco.csv'\n",
        "datos = pd.read_csv(archivo)\n",
        "datos.to_sql('clientes', engine, index=False)\n"
      ],
      "metadata": {
        "colab": {
          "base_uri": "https://localhost:8080/"
        },
        "id": "kxQB2e10U8Ol",
        "outputId": "ba1f3fc0-2742-49d4-abaf-4b25226d8e90"
      },
      "execution_count": 3,
      "outputs": [
        {
          "output_type": "execute_result",
          "data": {
            "text/plain": [
              "106553"
            ]
          },
          "metadata": {},
          "execution_count": 3
        }
      ]
    }
  ]
}